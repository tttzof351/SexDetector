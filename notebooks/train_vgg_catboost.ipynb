{
 "cells": [
  {
   "cell_type": "markdown",
   "metadata": {
    "collapsed": true,
    "pycharm": {
     "name": "#%% md\n"
    }
   },
   "source": [
    "# Train"
   ]
  },
  {
   "cell_type": "markdown",
   "source": [
    "## Split train-validation-test"
   ],
   "metadata": {
    "collapsed": false,
    "pycharm": {
     "name": "#%% md\n"
    }
   }
  },
  {
   "cell_type": "code",
   "execution_count": 20,
   "outputs": [],
   "source": [
    "import importlib\n",
    "import sys\n",
    "from utils import *\n",
    "importlib.reload(sys.modules['utils'])\n",
    "from utils import *"
   ],
   "metadata": {
    "collapsed": false,
    "pycharm": {
     "name": "#%%\n"
    }
   }
  },
  {
   "cell_type": "code",
   "execution_count": 21,
   "outputs": [],
   "source": [
    "import pandas as pd"
   ],
   "metadata": {
    "collapsed": false,
    "pycharm": {
     "name": "#%%\n"
    }
   }
  },
  {
   "cell_type": "code",
   "execution_count": 22,
   "outputs": [],
   "source": [
    "train_ratio = 0.7\n",
    "valid_ratio = 0.1\n",
    "test_ratio = 0.2"
   ],
   "metadata": {
    "collapsed": false,
    "pycharm": {
     "name": "#%%\n"
    }
   }
  },
  {
   "cell_type": "code",
   "execution_count": 23,
   "outputs": [],
   "source": [
    "df = pd.read_csv(\"../csv/filtered_audio.csv\")"
   ],
   "metadata": {
    "collapsed": false,
    "pycharm": {
     "name": "#%%\n"
    }
   }
  },
  {
   "cell_type": "code",
   "execution_count": 24,
   "outputs": [],
   "source": [
    "#Shuffle\n",
    "df = df.sample(frac=1).reset_index(drop=True)"
   ],
   "metadata": {
    "collapsed": false,
    "pycharm": {
     "name": "#%%\n"
    }
   }
  },
  {
   "cell_type": "code",
   "execution_count": 25,
   "outputs": [],
   "source": [
    "good_df = df[df['tango_decision'] == \"GOOD\"]\n",
    "bad_df = df[df['tango_decision'] == \"BAD\"]"
   ],
   "metadata": {
    "collapsed": false,
    "pycharm": {
     "name": "#%%\n"
    }
   }
  },
  {
   "cell_type": "code",
   "execution_count": 26,
   "outputs": [],
   "source": [
    "train_idx = int(train_ratio*len(bad_df))\n",
    "valid_idx = train_idx + int(valid_ratio*len(bad_df))\n",
    "\n",
    "train_bad_df = bad_df[:train_idx]\n",
    "valid_bad_df = bad_df[train_idx:valid_idx]\n",
    "test_bad_df = bad_df[valid_idx:]"
   ],
   "metadata": {
    "collapsed": false,
    "pycharm": {
     "name": "#%%\n"
    }
   }
  },
  {
   "cell_type": "code",
   "execution_count": 27,
   "outputs": [],
   "source": [
    "train_idx = int(train_ratio*len(good_df))\n",
    "valid_idx = train_idx + int(valid_ratio*len(good_df))\n",
    "\n",
    "train_good_df = good_df[:train_idx]\n",
    "valid_good_df = good_df[train_idx:valid_idx]\n",
    "test_good_df = good_df[valid_idx:]"
   ],
   "metadata": {
    "collapsed": false,
    "pycharm": {
     "name": "#%%\n"
    }
   }
  },
  {
   "cell_type": "code",
   "execution_count": 28,
   "outputs": [],
   "source": [
    "train_df = pd.concat([train_bad_df, train_good_df])\n",
    "valid_df = pd.concat([valid_bad_df, valid_good_df])\n",
    "test_df = pd.concat([test_bad_df, test_good_df])"
   ],
   "metadata": {
    "collapsed": false,
    "pycharm": {
     "name": "#%%\n"
    }
   }
  },
  {
   "cell_type": "code",
   "execution_count": 28,
   "outputs": [],
   "source": [],
   "metadata": {
    "collapsed": false,
    "pycharm": {
     "name": "#%%\n"
    }
   }
  },
  {
   "cell_type": "code",
   "execution_count": 29,
   "outputs": [],
   "source": [
    "train_df = train_df.sample(frac=1).reset_index(drop=True)\n",
    "valid_df = valid_df.sample(frac=1).reset_index(drop=True)\n",
    "test_df = test_df.sample(frac=1).reset_index(drop=True)"
   ],
   "metadata": {
    "collapsed": false,
    "pycharm": {
     "name": "#%%\n"
    }
   }
  },
  {
   "cell_type": "code",
   "execution_count": 29,
   "outputs": [],
   "source": [],
   "metadata": {
    "collapsed": false,
    "pycharm": {
     "name": "#%%\n"
    }
   }
  },
  {
   "cell_type": "code",
   "execution_count": 30,
   "outputs": [],
   "source": [
    "train_df.to_csv(\"../csv/train.csv\", index=False)\n",
    "valid_df.to_csv(\"../csv/valid.csv\", index=False)\n",
    "test_df.to_csv(\"../csv/test.csv\", index=False)"
   ],
   "metadata": {
    "collapsed": false,
    "pycharm": {
     "name": "#%%\n"
    }
   }
  },
  {
   "cell_type": "markdown",
   "source": [
    "## VGG-CatBoost train"
   ],
   "metadata": {
    "collapsed": false,
    "pycharm": {
     "name": "#%% md\n"
    }
   }
  },
  {
   "cell_type": "code",
   "execution_count": 31,
   "outputs": [],
   "source": [
    "%matplotlib inline"
   ],
   "metadata": {
    "collapsed": false,
    "pycharm": {
     "name": "#%%\n"
    }
   }
  },
  {
   "cell_type": "code",
   "execution_count": 32,
   "outputs": [],
   "source": [
    "import importlib\n",
    "import sys\n",
    "from utils import *\n",
    "importlib.reload(sys.modules['utils'])\n",
    "from utils import *"
   ],
   "metadata": {
    "collapsed": false,
    "pycharm": {
     "name": "#%%\n"
    }
   }
  },
  {
   "cell_type": "code",
   "execution_count": 33,
   "outputs": [],
   "source": [
    "import pandas as pd\n",
    "import matplotlib.pyplot as plt\n",
    "import IPython.display as ipd\n",
    "from catboost import CatBoostClassifier"
   ],
   "metadata": {
    "collapsed": false,
    "pycharm": {
     "name": "#%%\n"
    }
   }
  },
  {
   "cell_type": "code",
   "execution_count": 34,
   "outputs": [],
   "source": [
    "train_df = pd.read_csv(\"../csv/train.csv\")\n",
    "valid_df = pd.read_csv(\"../csv/valid.csv\")\n",
    "test_df = pd.read_csv(\"../csv/test.csv\")"
   ],
   "metadata": {
    "collapsed": false,
    "pycharm": {
     "name": "#%%\n"
    }
   }
  },
  {
   "cell_type": "code",
   "execution_count": 35,
   "outputs": [],
   "source": [
    "segment_len = 5\n",
    "bad_marker = 0\n",
    "good_marker = 1"
   ],
   "metadata": {
    "collapsed": false,
    "pycharm": {
     "name": "#%%\n"
    }
   }
  },
  {
   "cell_type": "code",
   "execution_count": 36,
   "outputs": [],
   "source": [
    "def flatten_x(df):\n",
    "    x = []\n",
    "    for path in df.vgg.tolist():\n",
    "        vgg = np.array(pickle_load(path))\n",
    "        if vgg.shape[0] > segment_len:\n",
    "            vgg = vgg[:segment_len, :]\n",
    "        else:\n",
    "            padding = np.zeros((segment_len - vgg.shape[0], 128))\n",
    "            vgg = np.concatenate([vgg, padding])\n",
    "\n",
    "        x.append(vgg.flatten())\n",
    "    return x\n",
    "\n",
    "def flatten_y(df):\n",
    "    return [good_marker if it == \"GOOD\" else bad_marker for it in df.tango_decision.tolist()]"
   ],
   "metadata": {
    "collapsed": false,
    "pycharm": {
     "name": "#%%\n"
    }
   }
  },
  {
   "cell_type": "code",
   "execution_count": 37,
   "outputs": [],
   "source": [
    "train_x = flatten_x(train_df)\n",
    "train_y = flatten_y(train_df)"
   ],
   "metadata": {
    "collapsed": false,
    "pycharm": {
     "name": "#%%\n"
    }
   }
  },
  {
   "cell_type": "code",
   "execution_count": 38,
   "outputs": [],
   "source": [
    "valid_x = flatten_x(valid_df)\n",
    "valid_y = flatten_y(valid_df)"
   ],
   "metadata": {
    "collapsed": false,
    "pycharm": {
     "name": "#%%\n"
    }
   }
  },
  {
   "cell_type": "code",
   "execution_count": 39,
   "outputs": [],
   "source": [
    "model = CatBoostClassifier(\n",
    "    iterations = 100,\n",
    "    random_seed = 42,\n",
    "    early_stopping_rounds=90,\n",
    "    custom_metric = ['BalancedAccuracy', 'Precision', 'Recall'],\n",
    "    eval_metric = 'BalancedAccuracy'\n",
    ")"
   ],
   "metadata": {
    "collapsed": false,
    "pycharm": {
     "name": "#%%\n"
    }
   }
  },
  {
   "cell_type": "code",
   "execution_count": 40,
   "outputs": [
    {
     "data": {
      "text/plain": "MetricVisualizer(layout=Layout(align_self='stretch', height='500px'))",
      "application/vnd.jupyter.widget-view+json": {
       "version_major": 2,
       "version_minor": 0,
       "model_id": "aad2933a59a04ff999f1a9f3fb1f6201"
      }
     },
     "metadata": {},
     "output_type": "display_data"
    },
    {
     "data": {
      "text/plain": "<catboost.core.CatBoostClassifier at 0x7f9722dc0550>"
     },
     "execution_count": 40,
     "metadata": {},
     "output_type": "execute_result"
    }
   ],
   "source": [
    "model.fit(\n",
    "    X = train_x,\n",
    "    y = train_y,\n",
    "    eval_set = (valid_x, valid_y),\n",
    "    verbose = False,\n",
    "    plot = True\n",
    ")"
   ],
   "metadata": {
    "collapsed": false,
    "pycharm": {
     "name": "#%%\n"
    }
   }
  },
  {
   "cell_type": "code",
   "execution_count": 42,
   "outputs": [],
   "source": [
    "model.save_model(\"../weights/catboost.cbm\")"
   ],
   "metadata": {
    "collapsed": false,
    "pycharm": {
     "name": "#%%\n"
    }
   }
  },
  {
   "cell_type": "code",
   "execution_count": 43,
   "outputs": [
    {
     "name": "stdout",
     "output_type": "stream",
     "text": [
      "EER: 15.87 %, threshold: 0.94455\n"
     ]
    }
   ],
   "source": [
    "valid_predicts = model.predict_proba(valid_x)\n",
    "eer, thr = compute_eer(\n",
    "    valid_y,\n",
    "    valid_predicts[:, 1]\n",
    ")\n",
    "\n",
    "eer = \"{:.2f}\".format(eer * 100)\n",
    "thr = \"{:.5f}\".format(thr)\n",
    "print(f\"EER: {eer} %, threshold: {thr}\")"
   ],
   "metadata": {
    "collapsed": false,
    "pycharm": {
     "name": "#%%\n"
    }
   }
  },
  {
   "cell_type": "code",
   "execution_count": 44,
   "outputs": [],
   "source": [
    "test_x = flatten_x(test_df)\n",
    "test_y = flatten_y(test_df)"
   ],
   "metadata": {
    "collapsed": false,
    "pycharm": {
     "name": "#%%\n"
    }
   }
  },
  {
   "cell_type": "code",
   "execution_count": 45,
   "outputs": [
    {
     "name": "stdout",
     "output_type": "stream",
     "text": [
      "EER: 11.81 %, threshold: 0.93376\n"
     ]
    }
   ],
   "source": [
    "test_predicts = model.predict_proba(test_x)\n",
    "eer, thr = compute_eer(\n",
    "    test_y,\n",
    "    test_predicts[:, 1]\n",
    ")\n",
    "\n",
    "eer = \"{:.2f}\".format(eer * 100)\n",
    "thr = \"{:.5f}\".format(thr)\n",
    "print(f\"EER: {eer} %, threshold: {thr}\")"
   ],
   "metadata": {
    "collapsed": false,
    "pycharm": {
     "name": "#%%\n"
    }
   }
  },
  {
   "cell_type": "code",
   "execution_count": 47,
   "outputs": [],
   "source": [
    "valid_prob_df = pd.DataFrame({\n",
    "    \"good\": valid_predicts[:, 1],\n",
    "    \"bad\": valid_predicts[:, 0],\n",
    "    \"label\": valid_y\n",
    "})"
   ],
   "metadata": {
    "collapsed": false,
    "pycharm": {
     "name": "#%%\n"
    }
   }
  },
  {
   "cell_type": "code",
   "execution_count": 51,
   "outputs": [
    {
     "data": {
      "text/plain": "<Figure size 1440x576 with 2 Axes>",
      "image/png": "[encoded data removed]"
     },
     "metadata": {
      "needs_background": "light"
     },
     "output_type": "display_data"
    }
   ],
   "source": [
    "fig = plt.figure(figsize=(20, 8))\n",
    "ax = fig.add_subplot(121)\n",
    "\n",
    "tar=valid_prob_df[valid_prob_df['label'] == 1]['good']\n",
    "imp=valid_prob_df[valid_prob_df['label'] == 0]['good']\n",
    "\n",
    "ax.set_title(\"probs hist\")\n",
    "ax.hist(\n",
    "    imp,\n",
    "    density=True,\n",
    "    bins=20\n",
    ")\n",
    "ax.hist(\n",
    "    tar,\n",
    "    density=True,\n",
    "    alpha=0.5,\n",
    "    bins=20\n",
    ")\n",
    "ax.grid(True)\n",
    "ax.set_xlabel(\"goodness prob\")\n",
    "ax.set_ylabel(\"density\")\n",
    "ax.legend([\"bad\", \"good\"], loc=2)\n",
    "\n",
    "thr, frr, far = compute_frr_far(\n",
    "    tar=tar,\n",
    "    imp=imp\n",
    ")\n",
    "\n",
    "ax2 = fig.add_subplot(122)\n",
    "\n",
    "ax2.set_title(\"far-frr plot\")\n",
    "ax2.plot(thr, far)\n",
    "ax2.plot(thr, frr)\n",
    "ax2.grid(True)\n",
    "ax2.set_xlabel(\"threshold\")\n",
    "ax2.set_ylabel(\"error rate\")\n",
    "ax2.legend([\"false acceptance rate\", \"false rejection rate\"], loc=1)\n",
    "\n",
    "plt.show()"
   ],
   "metadata": {
    "collapsed": false,
    "pycharm": {
     "name": "#%%\n"
    }
   }
  },
  {
   "cell_type": "code",
   "execution_count": null,
   "outputs": [],
   "source": [],
   "metadata": {
    "collapsed": false,
    "pycharm": {
     "name": "#%%\n"
    }
   }
  }
 ],
 "metadata": {
  "kernelspec": {
   "display_name": "Python 3",
   "language": "python",
   "name": "python3"
  },
  "language_info": {
   "codemirror_mode": {
    "name": "ipython",
    "version": 2
   },
   "file_extension": ".py",
   "mimetype": "text/x-python",
   "name": "python",
   "nbconvert_exporter": "python",
   "pygments_lexer": "ipython2",
   "version": "2.7.6"
  }
 },
 "nbformat": 4,
 "nbformat_minor": 0
}